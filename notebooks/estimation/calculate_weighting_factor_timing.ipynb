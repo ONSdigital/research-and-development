{
 "cells": [
  {
   "cell_type": "code",
   "execution_count": null,
   "metadata": {},
   "outputs": [],
   "source": [
    "%%timeit\n",
    "import numpy as np\n",
    "import pandas as pd\n",
    "\n",
    "frame = {\"test1\": [], \"test2\": [], \"test3\": []}\n",
    "df = pd.DataFrame(frame)\n",
    "\n",
    "for i in range(10):\n",
    "    df = df.append(\n",
    "        pd.Series([np.zeros(10) for i in range(3)], index=df.columns), ignore_index=True\n",
    "    )\n",
    "\n",
    "df"
   ]
  },
  {
   "cell_type": "code",
   "execution_count": null,
   "metadata": {},
   "outputs": [],
   "source": [
    "import numpy as np\n",
    "\n",
    "%%timeit\n",
    "import pandas as pd\n",
    "\n",
    "dfs = []\n",
    "\n",
    "for i in range(10):\n",
    "    frame = {\"test1\": np.zeros(10), \"test2\": np.zeros(10), \"test3\": np.zeros(10)}\n",
    "    dfs.append(pd.DataFrame(frame))\n",
    "\n",
    "df = pd.concat(dfs, axis=1)\n",
    "df"
   ]
  },
  {
   "cell_type": "code",
   "execution_count": null,
   "metadata": {},
   "outputs": [],
   "source": [
    "import numpy as np\n",
    "\n",
    "%%timeit\n",
    "import pandas as pd\n",
    "\n",
    "frame = {\"test1\": [], \"test2\": [], \"test3\": []}\n",
    "\n",
    "for i in range(10):\n",
    "    frame[\"test1\"].extend(np.zeros(10))\n",
    "    frame[\"test2\"].extend(np.zeros(10))\n",
    "    frame[\"test3\"].extend(np.zeros(10))\n",
    "\n",
    "df = pd.DataFrame(frame)\n",
    "df"
   ]
  }
 ],
 "metadata": {
  "language_info": {
   "codemirror_mode": {
    "name": "ipython",
    "version": 3
   },
   "file_extension": ".py",
   "mimetype": "text/x-python",
   "name": "python",
   "nbconvert_exporter": "python",
   "pygments_lexer": "ipython3",
   "version": "3.6.13"
  }
 },
 "nbformat": 4,
 "nbformat_minor": 2
}
