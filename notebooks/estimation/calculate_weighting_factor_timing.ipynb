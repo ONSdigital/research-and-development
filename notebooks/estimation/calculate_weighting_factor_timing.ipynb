{
 "cells": [
  {
   "cell_type": "code",
   "execution_count": 10,
   "metadata": {},
   "outputs": [
    {
     "name": "stdout",
     "output_type": "stream",
     "text": [
      "18.8 ms ± 677 µs per loop (mean ± std. dev. of 7 runs, 10 loops each)\n"
     ]
    }
   ],
   "source": [
    "%%timeit\n",
    "import pandas as pd\n",
    "import numpy as np\n",
    "\n",
    "frame = {\n",
    "    \"test1\": [],\n",
    "    \"test2\": [],\n",
    "    \"test3\": []\n",
    "}\n",
    "df = pd.DataFrame(frame)\n",
    "\n",
    "for i in range(10):\n",
    "    df = df.append(pd.Series([np.zeros(10) for i in range(3)], index=df.columns), ignore_index=True)\n",
    "\n",
    "df"
   ]
  },
  {
   "cell_type": "code",
   "execution_count": 11,
   "metadata": {},
   "outputs": [
    {
     "name": "stdout",
     "output_type": "stream",
     "text": [
      "4.37 ms ± 454 µs per loop (mean ± std. dev. of 7 runs, 100 loops each)\n"
     ]
    }
   ],
   "source": [
    "%%timeit\n",
    "import pandas as pd\n",
    "import numpy as np\n",
    "\n",
    "dfs = []\n",
    "\n",
    "for i in range(10):\n",
    "    frame = {\n",
    "    \"test1\": np.zeros(10),\n",
    "    \"test2\": np.zeros(10),\n",
    "    \"test3\": np.zeros(10)\n",
    "}\n",
    "    dfs.append(pd.DataFrame(frame))\n",
    "\n",
    "df = pd.concat(dfs, axis=1)\n",
    "df"
   ]
  },
  {
   "cell_type": "code",
   "execution_count": 13,
   "metadata": {},
   "outputs": [
    {
     "name": "stdout",
     "output_type": "stream",
     "text": [
      "512 µs ± 32.6 µs per loop (mean ± std. dev. of 7 runs, 1000 loops each)\n"
     ]
    }
   ],
   "source": [
    "%%timeit\n",
    "import pandas as pd\n",
    "import numpy as np\n",
    "\n",
    "frame = {\n",
    "    \"test1\": [],\n",
    "    \"test2\": [],\n",
    "    \"test3\": []\n",
    "}\n",
    "\n",
    "for i in range(10):\n",
    "    frame[\"test1\"].extend(np.zeros(10))\n",
    "    frame[\"test2\"].extend(np.zeros(10))\n",
    "    frame[\"test3\"].extend(np.zeros(10))\n",
    "\n",
    "df = pd.DataFrame(frame)\n",
    "df"
   ]
  }
 ],
 "metadata": {
  "kernelspec": {
   "display_name": "randd36",
   "language": "python",
   "name": "python3"
  },
  "language_info": {
   "codemirror_mode": {
    "name": "ipython",
    "version": 3
   },
   "file_extension": ".py",
   "mimetype": "text/x-python",
   "name": "python",
   "nbconvert_exporter": "python",
   "pygments_lexer": "ipython3",
   "version": "3.6.13"
  }
 },
 "nbformat": 4,
 "nbformat_minor": 2
}
