{
 "cells": [
  {
   "cell_type": "code",
   "execution_count": null,
   "metadata": {},
   "outputs": [],
   "source": [
    "!pwd"
   ]
  },
  {
   "cell_type": "code",
   "execution_count": null,
   "metadata": {},
   "outputs": [],
   "source": [
    "import yaml\n",
    "\n",
    "env_path = \"/home/cdsw/research-and-development/environment.yml\"\n",
    "\n",
    "\n",
    "def dependency_reader(env_file=env_path):\n",
    "    env_contents = yaml.safe_load(open(env_file))\n",
    "    dependencies = env_contents[\"dependencies\"]\n",
    "    return dependencies\n",
    "\n",
    "\n",
    "dependencies = dependency_reader(env_path)"
   ]
  },
  {
   "cell_type": "code",
   "execution_count": null,
   "metadata": {},
   "outputs": [],
   "source": [
    "def dependency_joiner(all_dependencies):\n",
    "    conda_dependencies = [dep for dep in all_dependencies if isinstance(dep, str)]\n",
    "    # The pip section is always the last element\n",
    "    pip_dependencies = all_dependencies[-1][\"pip\"]\n",
    "    deps_comb = pip_dependencies + conda_dependencies\n",
    "    return deps_comb\n",
    "\n",
    "\n",
    "deps_combnd = dependency_joiner(dependencies)"
   ]
  },
  {
   "cell_type": "code",
   "execution_count": null,
   "metadata": {},
   "outputs": [],
   "source": [
    "import re\n",
    "\n",
    "\n",
    "def sub_equals(dep):\n",
    "    patt = re.compile(r\"(?<=[a-z])=(?=\\d)\")\n",
    "    dep = re.sub(patt, \"==\", dep)\n",
    "    return dep"
   ]
  },
  {
   "cell_type": "code",
   "execution_count": null,
   "metadata": {},
   "outputs": [],
   "source": [
    "deps_combnd"
   ]
  },
  {
   "cell_type": "code",
   "execution_count": null,
   "metadata": {},
   "outputs": [],
   "source": [
    "pip_corrected = map(sub_equals, deps_combnd)\n",
    "list(pip_corrected)"
   ]
  },
  {
   "cell_type": "code",
   "execution_count": null,
   "metadata": {},
   "outputs": [],
   "source": []
  }
 ],
 "metadata": {
  "language_info": {
   "codemirror_mode": {
    "name": "ipython",
    "version": 3
   },
   "file_extension": ".py",
   "mimetype": "text/x-python",
   "name": "python",
   "nbconvert_exporter": "python",
   "pygments_lexer": "ipython3",
   "version": "3.6.8"
  }
 },
 "nbformat": 4,
 "nbformat_minor": 2
}
